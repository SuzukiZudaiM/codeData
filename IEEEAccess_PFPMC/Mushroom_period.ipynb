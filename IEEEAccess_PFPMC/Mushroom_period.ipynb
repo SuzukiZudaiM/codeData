{
 "cells": [
  {
   "cell_type": "code",
   "execution_count": 1,
   "id": "f97a4c68-a6fb-4605-9b3d-723b14a6226b",
   "metadata": {},
   "outputs": [],
   "source": [
    "from PAMI.periodicFrequentPattern.basic import PFPGrowth as pf\n",
    "from PAMI.periodicFrequentPattern.basic import PFPGrowthPlus as pfp\n",
    "from PAMI.periodicFrequentPattern.basic import PFECLAT as pfe\n",
    "from PAMI.periodicFrequentPattern.basic import PSGrowth as ps\n",
    "import PFPMC as pfpmc\n",
    "import pandas as pd\n",
    "inputFile = 'temporal_mushroom.csv'\n",
    "result = pd.DataFrame(columns=['algorithm', 'minSup', 'maxPer', 'patterns', 'runtime', 'memory']) "
   ]
  },
  {
   "cell_type": "code",
   "execution_count": 2,
   "id": "3f11b880-e19a-4600-bd10-768d4ed68704",
   "metadata": {},
   "outputs": [],
   "source": [
    "minSup = 70\n",
    "maxPer = [2000, 2100, 2200, 2300, 2400, 2500]\n",
    "sep = '\\t'"
   ]
  },
  {
   "cell_type": "code",
   "execution_count": 3,
   "id": "696e1661-2a8d-43ff-8ae7-7ee9ccca40e5",
   "metadata": {},
   "outputs": [
    {
     "name": "stdout",
     "output_type": "stream",
     "text": [
      "Periodic Frequent patterns were generated successfully using PFPGrowth algorithm \n",
      "Periodic Frequent patterns were generated successfully using PFPGrowth algorithm \n",
      "Periodic Frequent patterns were generated successfully using PFPGrowth algorithm \n",
      "Periodic Frequent patterns were generated successfully using PFPGrowth algorithm \n",
      "Periodic Frequent patterns were generated successfully using PFPGrowth algorithm \n",
      "Periodic Frequent patterns were generated successfully using PFPGrowth algorithm \n"
     ]
    }
   ],
   "source": [
    "algorithm = 'PFPGrowth'\n",
    "for i in maxPer:\n",
    "    obj = pf.PFPGrowth(iFile=inputFile, minSup=minSup, maxPer=i, sep=sep)\n",
    "    obj.startMine()\n",
    "    result.loc[result.shape[0]] = [algorithm, i, minSup, len(obj.getPatterns()), obj.getRuntime(), obj.getMemoryUSS()]"
   ]
  },
  {
   "cell_type": "code",
   "execution_count": 4,
   "id": "0ddcffe7-101f-44d5-a3f9-1f7109ab4c66",
   "metadata": {},
   "outputs": [
    {
     "name": "stdout",
     "output_type": "stream",
     "text": [
      "   algorithm  minSup  maxPer  patterns    runtime     memory\n",
      "0  PFPGrowth    2000      70      7579   1.750095  107913216\n",
      "1  PFPGrowth    2100      70      9995   2.146658  108756992\n",
      "2  PFPGrowth    2200      70     34019   4.410599  116105216\n",
      "3  PFPGrowth    2300      70     54291   5.975184  123564032\n",
      "4  PFPGrowth    2400      70     98549   8.742567  138227712\n",
      "5  PFPGrowth    2500      70    134089  10.663773  145457152\n"
     ]
    }
   ],
   "source": [
    "print(result)"
   ]
  },
  {
   "cell_type": "code",
   "execution_count": 5,
   "id": "e412e846-ca1d-4408-b814-8fdff44f72d0",
   "metadata": {},
   "outputs": [
    {
     "name": "stdout",
     "output_type": "stream",
     "text": [
      "periodic-frequent patterns were generated successfully using PFPGrowth++ algorithm \n",
      "periodic-frequent patterns were generated successfully using PFPGrowth++ algorithm \n",
      "periodic-frequent patterns were generated successfully using PFPGrowth++ algorithm \n",
      "periodic-frequent patterns were generated successfully using PFPGrowth++ algorithm \n",
      "periodic-frequent patterns were generated successfully using PFPGrowth++ algorithm \n",
      "periodic-frequent patterns were generated successfully using PFPGrowth++ algorithm \n"
     ]
    }
   ],
   "source": [
    "algorithm = 'PFPGrowth++'\n",
    "for i in maxPer:\n",
    "    obj = pfp.PFPGrowthPlus(iFile=inputFile, minSup=minSup, maxPer=i, sep=sep)\n",
    "    obj.startMine()\n",
    "    result.loc[result.shape[0]] = [algorithm, i, minSup, len(obj.getPatterns()), obj.getRuntime(), obj.getMemoryUSS()]"
   ]
  },
  {
   "cell_type": "code",
   "execution_count": 6,
   "id": "1b3d39b0-d679-4cf0-a311-c196af88907d",
   "metadata": {},
   "outputs": [
    {
     "name": "stdout",
     "output_type": "stream",
     "text": [
      "Periodic-Frequent patterns were generated successfully using PS-Growth algorithm \n",
      "Periodic-Frequent patterns were generated successfully using PS-Growth algorithm \n",
      "Periodic-Frequent patterns were generated successfully using PS-Growth algorithm \n",
      "Periodic-Frequent patterns were generated successfully using PS-Growth algorithm \n",
      "Periodic-Frequent patterns were generated successfully using PS-Growth algorithm \n",
      "Periodic-Frequent patterns were generated successfully using PS-Growth algorithm \n"
     ]
    }
   ],
   "source": [
    "algorithm = 'PSGrowth'\n",
    "for i in maxPer:\n",
    "    obj = ps.PSGrowth(iFile=inputFile, minSup=minSup, maxPer=i, sep=sep)\n",
    "    obj.startMine()\n",
    "    result.loc[result.shape[0]] = [algorithm, i, minSup, len(obj.getPatterns()), obj.getRuntime(), obj.getMemoryUSS()]"
   ]
  },
  {
   "cell_type": "code",
   "execution_count": null,
   "id": "8b3e6a24-2e10-4194-bc21-72503733fe45",
   "metadata": {},
   "outputs": [
    {
     "name": "stdout",
     "output_type": "stream",
     "text": [
      "8327\n",
      "25\n",
      "Periodic-Frequent patterns were generated successfully using PFPDiffset ECLAT algorithm \n",
      "8327\n",
      "28\n",
      "Periodic-Frequent patterns were generated successfully using PFPDiffset ECLAT algorithm \n",
      "8327\n",
      "33\n",
      "Periodic-Frequent patterns were generated successfully using PFPDiffset ECLAT algorithm \n",
      "8327\n",
      "34\n",
      "Periodic-Frequent patterns were generated successfully using PFPDiffset ECLAT algorithm \n",
      "8327\n",
      "35\n",
      "Periodic-Frequent patterns were generated successfully using PFPDiffset ECLAT algorithm \n",
      "8327\n",
      "35\n"
     ]
    }
   ],
   "source": [
    "algorithm = 'PFPMC'\n",
    "for i in maxPer:\n",
    "    obj = pfpmc.PFPMC(iFile=inputFile, minSup=minSup, maxPer=i, sep=sep)\n",
    "    obj.startMine()\n",
    "    result.loc[result.shape[0]] = [algorithm, i, minSup, len(obj.getPatterns()), obj.getRuntime(), obj.getMemoryUSS()]"
   ]
  },
  {
   "cell_type": "code",
   "execution_count": null,
   "id": "3cadd475-60a6-4440-8d85-a7c22718ba44",
   "metadata": {},
   "outputs": [],
   "source": [
    "print(result)"
   ]
  },
  {
   "cell_type": "code",
   "execution_count": null,
   "id": "f6380e47-dea2-46e7-bc8f-d46d5a1354be",
   "metadata": {},
   "outputs": [],
   "source": [
    "algorithm = 'PFECLAT'\n",
    "for i in maxPer:\n",
    "    obj = pfe.PFECLAT(iFile=inputFile, minSup=minSup, maxPer=i, sep=sep)\n",
    "    obj.startMine()\n",
    "    result.loc[result.shape[0]] = [algorithm, i, minSup, len(obj.getPatterns()), obj.getRuntime(), obj.getMemoryUSS()]"
   ]
  },
  {
   "cell_type": "code",
   "execution_count": null,
   "id": "be578657-314e-4460-a4c4-2ee6bfe2e7e8",
   "metadata": {},
   "outputs": [],
   "source": [
    "print(result)"
   ]
  },
  {
   "cell_type": "code",
   "execution_count": null,
   "id": "b9f3353a-9249-4af1-8a3d-194afa0df749",
   "metadata": {},
   "outputs": [],
   "source": [
    "from PAMI.extras.graph import dataFrameInToFigures as dif\n",
    "ab = dif.dataFrameInToFigures(result)\n",
    "ab.plotGraphsFromDataFrame()"
   ]
  },
  {
   "cell_type": "code",
   "execution_count": null,
   "id": "322d3229-932f-44fd-87ba-c602f1708004",
   "metadata": {},
   "outputs": [],
   "source": [
    "from PAMI.extras.graph import generateLatexFileFromDataFrame as gdf\n",
    "gdf.generateLatexCode(result)"
   ]
  },
  {
   "cell_type": "code",
   "execution_count": null,
   "id": "77557834-0c3e-4ce3-93f1-10126d5bd9c5",
   "metadata": {},
   "outputs": [],
   "source": []
  }
 ],
 "metadata": {
  "kernelspec": {
   "display_name": "Python 3 (ipykernel)",
   "language": "python",
   "name": "python3"
  },
  "language_info": {
   "codemirror_mode": {
    "name": "ipython",
    "version": 3
   },
   "file_extension": ".py",
   "mimetype": "text/x-python",
   "name": "python",
   "nbconvert_exporter": "python",
   "pygments_lexer": "ipython3",
   "version": "3.10.4"
  }
 },
 "nbformat": 4,
 "nbformat_minor": 5
}
