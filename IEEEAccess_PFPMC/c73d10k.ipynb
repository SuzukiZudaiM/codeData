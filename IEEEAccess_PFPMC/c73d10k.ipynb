{
 "cells": [
  {
   "cell_type": "code",
   "execution_count": 1,
   "id": "f97a4c68-a6fb-4605-9b3d-723b14a6226b",
   "metadata": {},
   "outputs": [],
   "source": [
    "import PFPGrowth as pf\n",
    "import PFPGrowthPlus as pfp\n",
    "import PFECLAT as pfe\n",
    "import PSGrowth as ps\n",
    "import PFPMC as pfpmc\n",
    "import pandas as pd\n",
    "inputFile = 'temporal_c73d10k.csv'\n",
    "result = pd.DataFrame(columns=['algorithm', 'minSup', 'maxPer', 'patterns', 'runtime', 'memory']) "
   ]
  },
  {
   "cell_type": "code",
   "execution_count": 2,
   "id": "3f11b880-e19a-4600-bd10-768d4ed68704",
   "metadata": {},
   "outputs": [],
   "source": [
    "minSup = [0.8, 0.82, 0.84, 0.86, 0.88, 0.9, 0.92]\n",
    "maxPer = 4000\n",
    "sep = '\\t'"
   ]
  },
  {
   "cell_type": "code",
   "execution_count": 3,
   "id": "696e1661-2a8d-43ff-8ae7-7ee9ccca40e5",
   "metadata": {},
   "outputs": [
    {
     "name": "stdout",
     "output_type": "stream",
     "text": [
      "9975\n",
      "20\n",
      "Periodic Frequent patterns were generated successfully using PFPGrowth algorithm \n",
      "9975\n",
      "20\n",
      "Periodic Frequent patterns were generated successfully using PFPGrowth algorithm \n",
      "9975\n",
      "18\n",
      "Periodic Frequent patterns were generated successfully using PFPGrowth algorithm \n",
      "9975\n",
      "17\n",
      "Periodic Frequent patterns were generated successfully using PFPGrowth algorithm \n",
      "9975\n",
      "16\n",
      "Periodic Frequent patterns were generated successfully using PFPGrowth algorithm \n",
      "9975\n",
      "15\n",
      "Periodic Frequent patterns were generated successfully using PFPGrowth algorithm \n",
      "9975\n",
      "15\n",
      "Periodic Frequent patterns were generated successfully using PFPGrowth algorithm \n"
     ]
    }
   ],
   "source": [
    "algorithm = 'PFPGrowth'\n",
    "for i in minSup:\n",
    "    obj = pf.PFPGrowth(iFile=inputFile, minSup=i, maxPer=maxPer, sep=sep)\n",
    "    obj.startMine()\n",
    "    result.loc[result.shape[0]] = [algorithm, i, maxPer, len(obj.getPatterns()), obj.getRuntime(), obj.getMemoryUSS()]"
   ]
  },
  {
   "cell_type": "code",
   "execution_count": 4,
   "id": "2402d75b-1f6a-47ab-ac3c-8c225abf888c",
   "metadata": {},
   "outputs": [
    {
     "name": "stdout",
     "output_type": "stream",
     "text": [
      "   algorithm  minSup  maxPer  patterns     runtime     memory\n",
      "0  PFPGrowth    0.80    4000    108391  162.968280  177479680\n",
      "1  PFPGrowth    0.82    4000     78781  121.096459  169742336\n",
      "2  PFPGrowth    0.84    4000     55350   84.538702  164839424\n",
      "3  PFPGrowth    0.86    4000     37195   57.192489  161124352\n",
      "4  PFPGrowth    0.88    4000     23420   35.989170  158302208\n",
      "5  PFPGrowth    0.90    4000     13171   20.955838  155713536\n",
      "6  PFPGrowth    0.92    4000      5418    9.372670  154296320\n"
     ]
    }
   ],
   "source": [
    "print(result)"
   ]
  },
  {
   "cell_type": "code",
   "execution_count": 5,
   "id": "e412e846-ca1d-4408-b814-8fdff44f72d0",
   "metadata": {},
   "outputs": [
    {
     "name": "stdout",
     "output_type": "stream",
     "text": [
      "periodic-frequent patterns were generated successfully using PFPGrowth++ algorithm \n",
      "periodic-frequent patterns were generated successfully using PFPGrowth++ algorithm \n",
      "periodic-frequent patterns were generated successfully using PFPGrowth++ algorithm \n",
      "periodic-frequent patterns were generated successfully using PFPGrowth++ algorithm \n",
      "periodic-frequent patterns were generated successfully using PFPGrowth++ algorithm \n",
      "periodic-frequent patterns were generated successfully using PFPGrowth++ algorithm \n",
      "periodic-frequent patterns were generated successfully using PFPGrowth++ algorithm \n"
     ]
    }
   ],
   "source": [
    "algorithm = 'PFPGrowth++'\n",
    "for i in minSup:\n",
    "    obj = pfp.PFPGrowthPlus(iFile=inputFile, minSup=i, maxPer=maxPer, sep=sep)\n",
    "    obj.startMine()\n",
    "    result.loc[result.shape[0]] = [algorithm, i, maxPer, len(obj.getPatterns()), obj.getRuntime(), obj.getMemoryUSS()]"
   ]
  },
  {
   "cell_type": "code",
   "execution_count": 6,
   "id": "1b3d39b0-d679-4cf0-a311-c196af88907d",
   "metadata": {},
   "outputs": [
    {
     "name": "stdout",
     "output_type": "stream",
     "text": [
      "Periodic-Frequent patterns were generated successfully using PS-Growth algorithm \n",
      "Periodic-Frequent patterns were generated successfully using PS-Growth algorithm \n",
      "Periodic-Frequent patterns were generated successfully using PS-Growth algorithm \n",
      "Periodic-Frequent patterns were generated successfully using PS-Growth algorithm \n",
      "Periodic-Frequent patterns were generated successfully using PS-Growth algorithm \n",
      "Periodic-Frequent patterns were generated successfully using PS-Growth algorithm \n",
      "Periodic-Frequent patterns were generated successfully using PS-Growth algorithm \n"
     ]
    }
   ],
   "source": [
    "algorithm = 'PSGrowth'\n",
    "for i in minSup:\n",
    "    obj = ps.PSGrowth(iFile=inputFile, minSup=i, maxPer=maxPer, sep=sep)\n",
    "    obj.startMine()\n",
    "    result.loc[result.shape[0]] = [algorithm, i, maxPer, len(obj.getPatterns()), obj.getRuntime(), obj.getMemoryUSS()]"
   ]
  },
  {
   "cell_type": "code",
   "execution_count": null,
   "id": "f6380e47-dea2-46e7-bc8f-d46d5a1354be",
   "metadata": {},
   "outputs": [],
   "source": [
    "algorithm = 'PFECLAT'\n",
    "for i in minSup:\n",
    "    obj = pfe.PFECLAT(iFile=inputFile, minSup=i, maxPer=maxPer, sep=sep)\n",
    "    obj.startMine()\n",
    "    result.loc[result.shape[0]] = [algorithm, i, maxPer, len(obj.getPatterns()), obj.getRuntime(), obj.getMemoryUSS()]"
   ]
  },
  {
   "cell_type": "code",
   "execution_count": null,
   "id": "8b3e6a24-2e10-4194-bc21-72503733fe45",
   "metadata": {},
   "outputs": [],
   "source": [
    "algorithm = 'PFPMC'\n",
    "for i in minSup:\n",
    "    obj = pfpmc.PFPMC(iFile=inputFile, minSup=i, maxPer=maxPer, sep=sep)\n",
    "    obj.startMine()\n",
    "    result.loc[result.shape[0]] = [algorithm, i, maxPer, len(obj.getPatterns()), obj.getRuntime(), obj.getMemoryUSS()]"
   ]
  },
  {
   "cell_type": "code",
   "execution_count": null,
   "id": "be578657-314e-4460-a4c4-2ee6bfe2e7e8",
   "metadata": {},
   "outputs": [],
   "source": [
    "print(result)"
   ]
  },
  {
   "cell_type": "code",
   "execution_count": null,
   "id": "af251438-4c12-4538-89e2-349b33a839ff",
   "metadata": {},
   "outputs": [],
   "source": [
    "from PAMI.extras.graph import dataFrameInToFigures as dif\n",
    "ab = dif.dataFrameInToFigures(result)\n",
    "ab.plotGraphsFromDataFrame()"
   ]
  },
  {
   "cell_type": "code",
   "execution_count": null,
   "id": "322d3229-932f-44fd-87ba-c602f1708004",
   "metadata": {},
   "outputs": [],
   "source": [
    "from PAMI.extras.graph import generateLatexFileFromDataFrame as gdf\n",
    "gdf.generateLatexCode(result)"
   ]
  },
  {
   "cell_type": "code",
   "execution_count": null,
   "id": "77557834-0c3e-4ce3-93f1-10126d5bd9c5",
   "metadata": {},
   "outputs": [],
   "source": []
  }
 ],
 "metadata": {
  "kernelspec": {
   "display_name": "Python 3 (ipykernel)",
   "language": "python",
   "name": "python3"
  },
  "language_info": {
   "codemirror_mode": {
    "name": "ipython",
    "version": 3
   },
   "file_extension": ".py",
   "mimetype": "text/x-python",
   "name": "python",
   "nbconvert_exporter": "python",
   "pygments_lexer": "ipython3",
   "version": "3.10.4"
  }
 },
 "nbformat": 4,
 "nbformat_minor": 5
}
