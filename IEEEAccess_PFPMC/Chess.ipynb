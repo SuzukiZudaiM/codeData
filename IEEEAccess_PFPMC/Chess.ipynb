{
 "cells": [
  {
   "cell_type": "code",
   "execution_count": 1,
   "id": "f97a4c68-a6fb-4605-9b3d-723b14a6226b",
   "metadata": {},
   "outputs": [],
   "source": [
    "from PAMI.periodicFrequentPattern.basic import PFPGrowth as pf\n",
    "from PAMI.periodicFrequentPattern.basic import PFPGrowthPlus as pfp\n",
    "from PAMI.periodicFrequentPattern.basic import PFECLAT as pfe\n",
    "from PAMI.periodicFrequentPattern.basic import PSGrowth as ps\n",
    "from PAMI.periodicFrequentPattern.basic import PFPMC as pfpmc\n",
    "import pandas as pd\n",
    "inputFile = 'temporal_chess.csv'\n",
    "result = pd.DataFrame(columns=['algorithm', 'minSup', 'maxPer', 'patterns', 'runtime', 'memory']) "
   ]
  },
  {
   "cell_type": "code",
   "execution_count": 2,
   "id": "3f11b880-e19a-4600-bd10-768d4ed68704",
   "metadata": {},
   "outputs": [],
   "source": [
    "minSup = [2000, 2200, 2400, 2600, 2800, 3000]\n",
    "maxPer = 400\n",
    "sep = ','"
   ]
  },
  {
   "cell_type": "code",
   "execution_count": 3,
   "id": "696e1661-2a8d-43ff-8ae7-7ee9ccca40e5",
   "metadata": {},
   "outputs": [
    {
     "name": "stdout",
     "output_type": "stream",
     "text": [
      "Periodic Frequent patterns were generated successfully using PFPGrowth algorithm \n",
      "Periodic Frequent patterns were generated successfully using PFPGrowth algorithm \n",
      "Periodic Frequent patterns were generated successfully using PFPGrowth algorithm \n",
      "Periodic Frequent patterns were generated successfully using PFPGrowth algorithm \n",
      "Periodic Frequent patterns were generated successfully using PFPGrowth algorithm \n",
      "Periodic Frequent patterns were generated successfully using PFPGrowth algorithm \n"
     ]
    }
   ],
   "source": [
    "algorithm = 'PFPGrowth'\n",
    "for i in minSup:\n",
    "    obj = pf.PFPGrowth(iFile=inputFile, minSup=i, maxPer=maxPer, sep=sep)\n",
    "    obj.startMine()\n",
    "    result.loc[result.shape[0]] = [algorithm, i, maxPer, len(obj.getPatterns()), obj.getRuntime(), obj.getMemoryUSS()]"
   ]
  },
  {
   "cell_type": "code",
   "execution_count": null,
   "id": "e412e846-ca1d-4408-b814-8fdff44f72d0",
   "metadata": {},
   "outputs": [],
   "source": [
    "algorithm = 'PFPGrowth++'\n",
    "for i in minSup:\n",
    "    obj = pfp.PFPGrowthPlus(iFile=inputFile, minSup=i, maxPer=maxPer, sep=sep)\n",
    "    obj.startMine()\n",
    "    result.loc[result.shape[0]] = [algorithm, i, maxPer, len(obj.getPatterns()), obj.getRuntime(), obj.getMemoryUSS()]"
   ]
  },
  {
   "cell_type": "code",
   "execution_count": null,
   "id": "1b3d39b0-d679-4cf0-a311-c196af88907d",
   "metadata": {},
   "outputs": [],
   "source": [
    "algorithm = 'PSGrowth'\n",
    "for i in minSup:\n",
    "    obj = ps.PSGrowth(iFile=inputFile, minSup=i, maxPer=maxPer, sep=sep)\n",
    "    obj.startMine()\n",
    "    result.loc[result.shape[0]] = [algorithm, i, maxPer, len(obj.getPatterns()), obj.getRuntime(), obj.getMemoryUSS()]"
   ]
  },
  {
   "cell_type": "code",
   "execution_count": null,
   "id": "f6380e47-dea2-46e7-bc8f-d46d5a1354be",
   "metadata": {},
   "outputs": [],
   "source": [
    "algorithm = 'PFECLAT'\n",
    "for i in minSup:\n",
    "    obj = pfe.PFECLAT(iFile=inputFile, minSup=i, maxPer=maxPer, sep=sep)\n",
    "    obj.startMine()\n",
    "    result.loc[result.shape[0]] = [algorithm, i, maxPer, len(obj.getPatterns()), obj.getRuntime(), obj.getMemoryUSS()]"
   ]
  },
  {
   "cell_type": "code",
   "execution_count": null,
   "id": "8b3e6a24-2e10-4194-bc21-72503733fe45",
   "metadata": {},
   "outputs": [],
   "source": [
    "algorithm = 'PFPMC'\n",
    "for i in minSup:\n",
    "    obj = pfpmc.PFPMC(iFile=inputFile, minSup=i, maxPer=maxPer, sep=sep)\n",
    "    obj.startMine()\n",
    "    result.loc[result.shape[0]] = [algorithm, i, maxPer, len(obj.getPatterns()), obj.getRuntime(), obj.getMemoryUSS()]"
   ]
  },
  {
   "cell_type": "code",
   "execution_count": null,
   "id": "be578657-314e-4460-a4c4-2ee6bfe2e7e8",
   "metadata": {},
   "outputs": [],
   "source": [
    "print(result)"
   ]
  },
  {
   "cell_type": "code",
   "execution_count": null,
   "id": "af251438-4c12-4538-89e2-349b33a839ff",
   "metadata": {},
   "outputs": [],
   "source": [
    "# from PAMI.extras.graph import dataFrameInToFigures as dif\n",
    "# ab = dif.dataFrameInToFigures(result)\n",
    "# ab.plotGraphsFromDataFrame()\n",
    "import plotly.express as _px\n",
    "import pandas as _pd\n",
    "\n",
    "class dataFrameInToFigures():\n",
    "\n",
    "    def __init__(self, dataFrame):\n",
    "\n",
    "        self._dataFrame = dataFrame\n",
    "\n",
    "    def plotGraphsFromDataFrame(self):\n",
    "        fig = _px.line(self._dataFrame, x=self._dataFrame.columns[0], y=self._dataFrame.columns[1], color='algorithm')\n",
    "        fig.show()\n",
    "        # fig = _px.line(self._dataFrame, x='minSup', y='runtime', color='algorithm')\n",
    "        # fig.show()\n",
    "        # fig = _px.line(self._dataFrame, x='minSup', y='memory', color='algorithm')\n",
    "        # fig.show()\n",
    "        # print('Successfully completed the graphs generation from DataFrame')\n",
    "\n",
    "\n",
    "ab = dataFrameInToFigures(result)\n",
    "ab.plotGraphsFromDataFrame()\n",
    "\n",
    "\n",
    "\n",
    "# if __name__ == '__main__':\n",
    "#     #data = {'algorithm': ['FPGrowth','FPGrowth', 'FPGrowth', 'FPGrowth', 'FPGrowth', 'ECLAT', 'ECLAT', 'ECLAT', 'ECLAT', 'ECLAT'],\n",
    "#     #        'minSup': [0.01, 0.02, 0.03, 0.04, 0.05, 0.01, 0.02, 0.03, 0.04, 0.05],\n",
    "#     #        'patterns': [386, 155, 60, 36, 10, 386, 155, 60, 26, 10],\n",
    "#     #        'runtime': [7.351629, 4.658654 , 4.658654 , 1.946843, 1.909376, 4.574833, 2.514252, 1.834948, 1.889892, 1.809999],\n",
    "#     #        'memory': [426545152, 309182464, 241397760, 225533952, 220950528, 233537536, 267165696, 252841984, 245690368,\n",
    "#     #                    295710720]\n",
    "#     #        }\n",
    "#     data = {\n",
    "#         'algorithm': ['FPGrowth', 'FPGrowth', 'FPGrowth', 'FPGrowth', 'FPGrowth'],\n",
    "#         'minSup': [0.01, 0.02, 0.03, 0.04, 0.05],\n",
    "#         'patterns': [386, 155, 60, 36, 10],\n",
    "#         'runtime': [7.351629, 4.658654, 4.658654, 1.946843, 1.909376],\n",
    "#         'memory': [426545152, 309182464, 241397760, 225533952, 220950528]\n",
    "#         }\n",
    "#     dataFrame = _pd.DataFrame(data)\n",
    "#     ab = dataFrameInToFigures(dataFrame)\n",
    "#     ab.plotGraphsFromDataFrame()"
   ]
  },
  {
   "cell_type": "code",
   "execution_count": null,
   "id": "322d3229-932f-44fd-87ba-c602f1708004",
   "metadata": {},
   "outputs": [],
   "source": [
    "# from PAMI.extras.graph import generateLatexFileFromDataFrame as gdf\n",
    "# gdf.generateLatexCode(result)\n",
    "\n",
    "import pandas as pd\n",
    "\n",
    "\n",
    "def generateLatexCode(result):\n",
    "\n",
    "    titles = result.columns.tolist()\n",
    "    titles.remove(\"minSup\")\n",
    "    titles.remove(\"algorithm\")\n",
    "    for i in range(0, len(titles)):\n",
    "        legendary = pd.unique(result[['algorithm']].values.ravel())\n",
    "        color = ['red', 'blue', 'green', 'black', 'yellow']\n",
    "        xaxis = result[\"minSup\"].values.tolist()\n",
    "        yaxis = result[titles[i]].values.tolist()\n",
    "        algo = result[\"algorithm\"].values.tolist()\n",
    "        x_label = \"minSup\"\n",
    "        filename = titles[i]\n",
    "        latexwriter = open(filename + \"Latexfile.tex\", \"w\")\n",
    "        latexwriter.write(\"\")\n",
    "        latexwriter.write(\"\\\\begin{axis}[\\n\\txlabel={\\\\Huge{\" + x_label + \"}},\")\n",
    "        latexwriter.write(\"\\n\\tylabel={\\\\Huge{\" + titles[i] + \"}},\")\n",
    "        latexwriter.write(\"\\n\\txmin=\" + str(min(xaxis)) + \", xmax=\" + str(max(xaxis)) + \",]\")\n",
    "\n",
    "        for num in range(0, len(legendary)):\n",
    "            latexwriter.write(\"\\n\\\\addplot+  [\" + color[num] + \"]\\n\\tcoordinates {\\n\")\n",
    "            for num2 in range(0, len(xaxis)):\n",
    "                if (legendary[num] == algo[num2]):\n",
    "                    latexwriter.write(\"(\" + str(xaxis[num2]) + \",\" + str(yaxis[num2]) + \")\\n\")\n",
    "            latexwriter.write(\"\\t};   \\\\addlegendentry{\" + legendary[num] + \"}\\n\")\n",
    "            if (num + 1 == len(legendary)):\n",
    "                latexwriter.write(\"\\\\end{axis}\")\n",
    "    print(\"Latex files generated successfully\")\n",
    "    #data1 = pd.DataFrame(data)\n",
    "    #generateLatexCode(data1)\n",
    "\n",
    "if __name__ == \"__main__\":\n",
    "\n",
    "\n",
    "    #data = {'Name': ['Jai', 'Princi', 'Gaurav', 'Anuj'],\n",
    "            #'Age': [27, 24, 22, 32],\n",
    "            #'Address': [0, 1, 2, 3],\n",
    "            #'Qualification': [8, 9, 10, 11]}\n",
    "    data = {'algorithm': ['FGPFPMiner','FGPFPMiner','FGPFPMiner','FGPFPMiner','FGPFPMiner','FGPFPMiner','FGPFPMiner'\n",
    "        ,'Naive algorithm','Naive algorithm','Naive algorithm','Naive algorithm','Naive algorithm','Naive algorithm'\n",
    "        ,'Naive algorithm', ],\n",
    "            'minSup': [200,400,600,800,1000,1200,1400,200,400,600,800,1000,1200,1400],\n",
    "            'patterns': [25510,5826,2305,1163,657,407,266,101938,16183,5027,2091,1044,574,335],\n",
    "            'runtime': [1077.7172002792358,298.6219701766968,186.86728835105896,126.96730422973633\n",
    "                ,77.39371657371521,64.73982691764832,46.879486083984375,13175.030002832413,1821.2089745998383\n",
    "                ,964.6961390972137,637.1588702201843,350.71105194091797,275.9953947067261,195.6615695953369],\n",
    "            'memoryRSS': [164634624,159494144,157622272,156184576,153698304,150597632,149381120,228220928,192770048\n",
    "                ,185114624,182939648,178253824,176115712,171659264],\n",
    "            'memoryUSS': [144310272,139104256,137232384,135794688,133300224,130195456,128978944,\n",
    "                        203337728,172376064,164720640,162545664,157859840,155721728,151265280]\n",
    "            }\n",
    "\n",
    "    data1 = pd.DataFrame(data)\n",
    "    #print(data1)\n",
    "    #print(data1['Name'].values.tolist())\n",
    "    generateLatexCode(data1)"
   ]
  },
  {
   "cell_type": "code",
   "execution_count": null,
   "id": "77557834-0c3e-4ce3-93f1-10126d5bd9c5",
   "metadata": {},
   "outputs": [],
   "source": []
  }
 ],
 "metadata": {
  "kernelspec": {
   "display_name": "Python 3 (ipykernel)",
   "language": "python",
   "name": "python3"
  },
  "language_info": {
   "codemirror_mode": {
    "name": "ipython",
    "version": 3
   },
   "file_extension": ".py",
   "mimetype": "text/x-python",
   "name": "python",
   "nbconvert_exporter": "python",
   "pygments_lexer": "ipython3",
   "version": "3.10.4"
  }
 },
 "nbformat": 4,
 "nbformat_minor": 5
}
